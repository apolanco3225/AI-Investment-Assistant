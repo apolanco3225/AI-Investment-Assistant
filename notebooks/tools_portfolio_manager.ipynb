{
 "cells": [
  {
   "cell_type": "code",
   "execution_count": 7,
   "metadata": {},
   "outputs": [],
   "source": [
    "# import necessary libraries\n",
    "import os\n",
    "import alpaca_trade_api as tradeapi\n",
    "\n",
    "\n",
    "# load environment variables\n",
    "API_KEY = os.getenv(\"ALPACA_API_KEY\")\n",
    "API_SECRET = os.getenv(\"ALPACA_SECRET_KEY\")\n",
    "BASE_URL = 'https://paper-api.alpaca.markets'\n",
    "\n",
    "# initialize the API\n",
    "api = tradeapi.REST(API_KEY, API_SECRET, BASE_URL, api_version='v2')"
   ]
  },
  {
   "cell_type": "code",
   "execution_count": 8,
   "metadata": {},
   "outputs": [
    {
     "name": "stdout",
     "output_type": "stream",
     "text": [
      "{'error': 'Market is closed. Cannot place orders.'}\n"
     ]
    }
   ],
   "source": [
    "def place_order(symbol: str, qty: int, side: str):\n",
    "    \"\"\"\n",
    "    Place a buy or sell market order for a given stock.\n",
    "\n",
    "    Args:\n",
    "        symbol (str): The stock ticker (e.g., \"AAPL\").\n",
    "        qty (int): Number of shares to trade.\n",
    "        side (str): Either 'buy' or 'sell'.\n",
    "\n",
    "    Returns:\n",
    "        dict: The order response or error message.\n",
    "    \"\"\"\n",
    "    side = side.lower()\n",
    "    if side not in ['buy', 'sell']:\n",
    "        return {\"error\": \"Invalid side. Use 'buy' or 'sell'.\"}\n",
    "\n",
    "    # Check if the market is open\n",
    "    clock = api.get_clock()\n",
    "    if not clock.is_open:\n",
    "        return {\"error\": \"Market is closed. Cannot place orders.\"}\n",
    "\n",
    "    # If selling, check position\n",
    "    if side == 'sell':\n",
    "        try:\n",
    "            position = api.get_position(symbol)\n",
    "            if int(position.qty) < qty:\n",
    "                return {\"error\": f\"Not enough shares to sell. You only have {position.qty}.\"}\n",
    "        except tradeapi.rest.APIError:\n",
    "            return {\"error\": f\"No position found for {symbol}.\"}\n",
    "\n",
    "    try:\n",
    "        order = api.submit_order(\n",
    "            symbol=symbol,\n",
    "            qty=qty,\n",
    "            side=side,\n",
    "            type='market',\n",
    "            time_in_force='gtc'\n",
    "        )\n",
    "        return {\"status\": \"success\", \"message\": f\"{side.title()} order submitted for {qty} share(s) of {symbol}\", \"order\": order._raw}\n",
    "    except Exception as e:\n",
    "        return {\"error\": str(e)}\n",
    "\n",
    "# # Example usage\n",
    "# response = place_order(\"TSLA\", 10, \"buy\")\n",
    "# print(response)\n",
    "\n",
    "# response = place_order(\"AAPL\", 1, \"sell\")\n",
    "# print(response)\n"
   ]
  },
  {
   "cell_type": "code",
   "execution_count": 9,
   "metadata": {},
   "outputs": [
    {
     "name": "stdout",
     "output_type": "stream",
     "text": [
      "cash: 55987.73\n",
      "buying_power: 162607.46\n",
      "portfolio_value: 106619.73\n",
      "equity: 106619.73\n",
      "positions: [{'symbol': 'MSFT', 'qty': '50', 'avg_entry_price': '352.4128', 'current_price': '383', 'market_value': '19150', 'unrealized_pl': '1529.36', 'unrealized_plpc': '8.68%'}, {'symbol': 'NVDA', 'qty': '300', 'avg_entry_price': '87.972067', 'current_price': '104.94', 'market_value': '31482', 'unrealized_pl': '5090.38', 'unrealized_plpc': '19.29%'}]\n"
     ]
    }
   ],
   "source": [
    "def get_portfolio_state():\n",
    "    \"\"\"\n",
    "    Retrieves and prints the current state of the Alpaca paper trading portfolio.\n",
    "\n",
    "    Returns:\n",
    "        dict: Portfolio summary including cash, equity, positions, and more.\n",
    "    \"\"\"\n",
    "    try:\n",
    "        account = api.get_account()\n",
    "        positions = api.list_positions()\n",
    "\n",
    "        portfolio_summary = {\n",
    "            \"cash\": account.cash,\n",
    "            \"buying_power\": account.buying_power,\n",
    "            \"portfolio_value\": account.portfolio_value,\n",
    "            \"equity\": account.equity,\n",
    "            \"positions\": []\n",
    "        }\n",
    "\n",
    "        for p in positions:\n",
    "            portfolio_summary[\"positions\"].append({\n",
    "                \"symbol\": p.symbol,\n",
    "                \"qty\": p.qty,\n",
    "                \"avg_entry_price\": p.avg_entry_price,\n",
    "                \"current_price\": p.current_price,\n",
    "                \"market_value\": p.market_value,\n",
    "                \"unrealized_pl\": p.unrealized_pl,\n",
    "                \"unrealized_plpc\": f\"{float(p.unrealized_plpc) * 100:.2f}%\"\n",
    "            })\n",
    "\n",
    "        return portfolio_summary\n",
    "\n",
    "    except Exception as e:\n",
    "        return {\"error\": str(e)}\n",
    "\n",
    "# Example usage\n",
    "portfolio = get_portfolio_state()\n",
    "for item in portfolio:\n",
    "    print(f\"{item}: {portfolio[item]}\")"
   ]
  },
  {
   "cell_type": "code",
   "execution_count": null,
   "metadata": {},
   "outputs": [],
   "source": []
  }
 ],
 "metadata": {
  "kernelspec": {
   "display_name": "multi_agent",
   "language": "python",
   "name": "python3"
  },
  "language_info": {
   "codemirror_mode": {
    "name": "ipython",
    "version": 3
   },
   "file_extension": ".py",
   "mimetype": "text/x-python",
   "name": "python",
   "nbconvert_exporter": "python",
   "pygments_lexer": "ipython3",
   "version": "3.10.0"
  }
 },
 "nbformat": 4,
 "nbformat_minor": 2
}
